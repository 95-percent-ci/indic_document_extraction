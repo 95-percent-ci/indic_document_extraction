{
 "cells": [
  {
   "cell_type": "code",
   "execution_count": 15,
   "id": "e19f3c9e",
   "metadata": {},
   "outputs": [],
   "source": [
    "import vertexai\n",
    "from vertexai.generative_models import GenerativeModel, Part\n",
    "import os\n",
    "\n",
    "\n",
    "from IPython.display import HTML, Image, Markdown, display\n",
    "from google import genai\n",
    "from google.genai.types import (\n",
    "    FunctionDeclaration,\n",
    "    GenerateContentConfig,\n",
    "    GoogleSearch,\n",
    "    HarmBlockThreshold,\n",
    "    HarmCategory,\n",
    "    Part,\n",
    "    SafetySetting,\n",
    "    ThinkingConfig,\n",
    "    Tool,\n",
    "    ToolCodeExecution,\n",
    ")\n",
    "     \n"
   ]
  },
  {
   "cell_type": "code",
   "execution_count": 4,
   "id": "a865f8ba",
   "metadata": {},
   "outputs": [],
   "source": [
    "from dotenv import load_dotenv"
   ]
  },
  {
   "cell_type": "code",
   "execution_count": 7,
   "id": "607d08ba",
   "metadata": {},
   "outputs": [],
   "source": [
    "PROJECT_ID = os.getenv(\"PROJECT_ID\", \"\")\n",
    "LOCATION = \"us-east1\""
   ]
  },
  {
   "cell_type": "code",
   "execution_count": 47,
   "id": "d1632efd",
   "metadata": {},
   "outputs": [],
   "source": [
    "client = genai.Client(vertexai=True, project=PROJECT_ID, location=LOCATION)\n",
    "MODEL_ID = \"gemini-2.0-flash\""
   ]
  },
  {
   "cell_type": "code",
   "execution_count": 48,
   "id": "4905fb73",
   "metadata": {},
   "outputs": [
    {
     "data": {
      "text/markdown": [
       "Let $N$ be the number of tennis balls Roger has initially. We are given that $N = 5$.\n",
       "Roger buys 2 more cans of tennis balls.\n",
       "Each can has 3 tennis balls.\n",
       "So the number of tennis balls he buys is $2 \\times 3 = 6$.\n",
       "The total number of tennis balls Roger has now is the sum of the number of tennis balls he had initially and the number of tennis balls he bought.\n",
       "So the total number of tennis balls is $5 + 6 = 11$.\n",
       "\n",
       "Now, we write out the argument and find the final answer.\n",
       "Roger has 5 tennis balls.\n",
       "He buys 2 cans of tennis balls.\n",
       "Each can has 3 tennis balls.\n",
       "The number of tennis balls he buys is $2 \\times 3 = 6$.\n",
       "The total number of tennis balls he has now is $5 + 6 = 11$.\n",
       "\n",
       "Final Answer: The final answer is $\\boxed{11}$"
      ],
      "text/plain": [
       "<IPython.core.display.Markdown object>"
      ]
     },
     "metadata": {},
     "output_type": "display_data"
    }
   ],
   "source": [
    "response = client.models.generate_content(\n",
    "    model=MODEL_ID,\n",
    "    contents=\"Roger has 5 tennis balls. He buys 2 more cans of tennis balls. Each can has 3 tennis balls. How many tennis balls does he have now?\",\n",
    ")\n",
    "\n",
    "display(Markdown(response.text))"
   ]
  },
  {
   "cell_type": "code",
   "execution_count": 20,
   "id": "ad7abfea",
   "metadata": {},
   "outputs": [
    {
     "data": {
      "text/markdown": [
       "The P vs. NP problem is one of the most significant unsolved problems in theoretical computer science, with profound practical implications depending on its resolution. It asks whether every problem whose solution can be *quickly verified* (NP) can also be *quickly solved* (P). \"Quickly\" here generally means in polynomial time.\n",
       "\n",
       "The consensus among computer scientists is that **P ≠ NP**, meaning there are problems whose solutions are easy to check but hard to find. However, this remains unproven.\n",
       "\n",
       "Let's explore the practical implications for algorithm design and cryptography under both major scenarios:\n",
       "\n",
       "---\n",
       "\n",
       "### If P = NP (The \"Revolutionary\" Scenario – Highly Unlikely, But Theoretically Possible)\n",
       "\n",
       "If P = NP, it would mean that every problem whose solution can be efficiently verified can also be efficiently solved.\n",
       "\n",
       "#### Implications for Algorithm Design:\n",
       "\n",
       "1.  **Optimal Solutions for Hard Problems:**\n",
       "    *   **Near-Perfect Automation:** All NP-complete problems (like Traveling Salesperson, Boolean Satisfiability, Knapsack, Graph Coloring, protein folding, optimal scheduling, drug discovery) would become efficiently solvable. We could find the *absolute best* solution to incredibly complex optimization problems that currently require heuristics or approximations.\n",
       "    *   **Revolution in Science and Engineering:**\n",
       "        *   **Drug Discovery:** Find optimal molecular structures for drugs.\n",
       "        *   **Material Science:** Design materials with perfectly optimized properties.\n",
       "        *   **Logistics & Supply Chains:** Achieve truly optimal delivery routes, factory schedules, and resource allocation.\n",
       "        *   **AI:** Potentially lead to a huge leap in AI capabilities, as finding optimal weights for neural networks or optimal strategies in complex games would become trivial. It might allow true, perfect, general AI to emerge quickly.\n",
       "        *   **Mathematics:** Potentially lead to automated theorem proving for many classes of mathematical statements.\n",
       "\n",
       "2.  **Paradigm Shift:** The entire field of algorithm design would change. Instead of focusing on approximation algorithms or heuristics for NP-hard problems, the focus would shift to finding *any* polynomial-time algorithm, as one would be guaranteed to exist.\n",
       "\n",
       "3.  **Economic Disruption:** Companies built on clever heuristics or approximation solutions for NP-hard problems might find their core value diminished overnight.\n",
       "\n",
       "#### Implications for Cryptography:\n",
       "\n",
       "1.  **Complete Breakdown of Public-Key Cryptography:**\n",
       "    *   **RSA, ECC, Diffie-Hellman:** Modern public-key cryptography heavily relies on the presumed hardness of certain mathematical problems (e.g., factoring large numbers for RSA, discrete logarithms for ECC). If P=NP, these problems would become efficiently solvable.\n",
       "    *   **Massive Security Breach:** All current public-key encryption, digital signatures, secure communication (SSL/TLS, VPNs), and cryptocurrencies (like Bitcoin, which relies on ECC for signatures) would be instantly broken.\n",
       "    *   **No More \"One-Way Functions\":** The concept of functions that are easy to compute but hard to invert (essential for cryptography) would cease to exist for computationally hard problems.\n",
       "    *   **Reliance on Symmetric Cryptography:** We would have to rely almost exclusively on symmetric-key cryptography (like AES), where the same key is used for encryption and decryption. However, the secure *exchange* of these keys would become incredibly challenging without public-key methods.\n",
       "    *   **Post-Quantum Cryptography's Relevance:** Even post-quantum cryptographic schemes, while designed to resist quantum attacks, still rely on the presumed hardness of certain mathematical problems. If P=NP, even *those* problems might become easy to solve for classical computers.\n",
       "\n",
       "---\n",
       "\n",
       "### If P ≠ NP (The \"Status Quo\" Scenario – Widely Believed and Supported by Decades of Research)\n",
       "\n",
       "If P ≠ NP, it means that there are fundamental computational limits: some problems are inherently hard to solve, even if their solutions are easy to check.\n",
       "\n",
       "#### Implications for Algorithm Design:\n",
       "\n",
       "1.  **Continued Quest for Ingenuity:**\n",
       "    *   **Approximation Algorithms:** We continue to develop algorithms that find \"good enough\" solutions for NP-hard problems within a reasonable time, rather than the absolute optimal one.\n",
       "    *   **Heuristics:** We rely on rules of thumb and trial-and-error methods that work well in practice for specific instances, even without guarantees of optimality or polynomial time for all cases.\n",
       "    *   **Specialized Solutions:** We focus on solving specific, constrained versions of NP-hard problems that arise in particular applications.\n",
       "    *   **Exponential Algorithms for Small Instances:** For very small input sizes, we might still use algorithms that take exponential time.\n",
       "    *   **New Computational Paradigms:** It drives research into new models of computation (e.g., quantum computing, though P vs. NP is distinct from quantum speedups) or novel algorithmic techniques to push the boundaries of what's feasible.\n",
       "    *   **Value of Human Expertise:** The difficulty of NP-hard problems ensures a high value for experts who can find clever ways to tackle them in practice.\n",
       "\n",
       "2.  **Inherent Limitations:** There will always be certain computational tasks that simply cannot be perfectly optimized or solved in a universally efficient manner, no matter how powerful our computers become.\n",
       "\n",
       "3.  **Focus on Problem Formulation:** It emphasizes the importance of carefully formulating problems to avoid falling into intractable NP-hard traps, or to identify which parts of a problem *can* be solved efficiently.\n",
       "\n",
       "#### Implications for Cryptography:\n",
       "\n",
       "1.  **Foundation of Modern Cryptography:**\n",
       "    *   **Security Through Hardness:** The assumption P ≠ NP is the bedrock upon which almost all modern public-key cryptography is built. The security of RSA, ECC, and many other schemes relies on the belief that factoring large numbers or solving discrete logarithms are computationally intractable (i.e., not in P).\n",
       "    *   **Existence of One-Way Functions:** The ability to construct one-way functions (easy to compute, hard to invert) is directly tied to the existence of problems that are in NP but not in P. These functions are fundamental for secure hashing, digital signatures, and public-key encryption.\n",
       "    *   **Trust and Secrecy:** P ≠ NP allows us to build systems where we can prove something (like a digital signature) without revealing the secret knowledge used to create it, or encrypt messages such that only the intended recipient (who knows the secret key) can decrypt them.\n",
       "\n",
       "2.  **Ongoing Research and Threats:**\n",
       "    *   **Need for New Hard Problems:** While P ≠ NP provides the *basis*, new computational threats (like quantum computing) mean we constantly need to find new problems believed to be hard even for *future* computational models. This is the goal of post-quantum cryptography.\n",
       "    *   **Maintaining Security:** The P ≠ NP assumption allows cryptographers to design systems with a calculated level of security, knowing that breaking them would require an impractically large amount of computational power (assuming no fundamental breakthrough in solving NP-hard problems efficiently).\n",
       "\n",
       "---\n",
       "\n",
       "### Conclusion:\n",
       "\n",
       "The P vs. NP problem has profound practical implications. The widespread belief that **P ≠ NP** is what gives modern cryptography its power and provides the foundation for secure digital communication and transactions. It also means that algorithm design for many optimization problems will continue to rely on clever approximations and heuristics, as perfect solutions are out of reach.\n",
       "\n",
       "If, against all current evidence, **P = NP** were proven, it would herald an unimaginable technological revolution, solving many of humanity's most complex optimization challenges, but simultaneously dismantle the entire edifice of current digital security, throwing the world into cryptographic chaos."
      ],
      "text/plain": [
       "<IPython.core.display.Markdown object>"
      ]
     },
     "metadata": {},
     "output_type": "display_data"
    }
   ],
   "source": [
    "THINKING_BUDGET = 1024  # @param {type: \"integer\"}\n",
    "\n",
    "response = client.models.generate_content(\n",
    "    model=MODEL_ID,\n",
    "    contents=\"What are the practical implications of the P vs. NP problem for algorithm design and cryptography?\",\n",
    "    config=GenerateContentConfig(\n",
    "        thinking_config=ThinkingConfig(\n",
    "            thinking_budget=THINKING_BUDGET,\n",
    "        )\n",
    "    ),\n",
    ")\n",
    "\n",
    "display(Markdown(response.text))"
   ]
  },
  {
   "cell_type": "code",
   "execution_count": 43,
   "id": "deff3447",
   "metadata": {},
   "outputs": [],
   "source": [
    "thinking_config = ThinkingConfig(thinking_budget=0)"
   ]
  },
  {
   "cell_type": "markdown",
   "id": "9a2843ae",
   "metadata": {},
   "source": [
    "## MultiModel Prompts"
   ]
  },
  {
   "cell_type": "code",
   "execution_count": 58,
   "id": "fcbb5db9",
   "metadata": {},
   "outputs": [],
   "source": [
    "file_path = \"/Users/niteshkumarsharma/Desktop/Folder/AI/indic_document_extraction/sample_images/hindi/textbook_digital_hindi_01.png\"\n",
    "# Read the file into memory.\n",
    "with open(file_path, \"rb\") as image:\n",
    "    image = image.read()"
   ]
  },
  {
   "cell_type": "code",
   "execution_count": 59,
   "id": "cac85a7d",
   "metadata": {},
   "outputs": [
    {
     "data": {
      "text/markdown": [
       "```markdown\n",
       "# 1\n",
       "सुनें कहानी\n",
       "\n",
       "मीना का परिवार\n",
       "\n",
       "मीना के परिवार में सात लोग हैं- उसके दादा, दादी, माता, पिता, चाचा,\n",
       "मीना और उसका छोटा भाई दिवाकर। दिवाकर तीन साल का है। वह बहुत\n",
       "नटखट और चुलबुला है।\n",
       "\n",
       "ed\n",
       "\n",
       "मीना को अपने भाई के साथ खेलने में बहुत\n",
       "आनंद आता है। दिवाकर भागकर कमरे के\n",
       "किवाड़ के पीछे छिप जाता है। मीना उसे ढूँढ़\n",
       "लेती है तो वह ज़ोर-ज़ोर से हँसता है।\n",
       "\n",
       "2\n",
       "\n",
       "Reprint 2025-26\n",
       "```"
      ],
      "text/plain": [
       "<IPython.core.display.Markdown object>"
      ]
     },
     "metadata": {},
     "output_type": "display_data"
    }
   ],
   "source": [
    "response = client.models.generate_content(\n",
    "    model=MODEL_ID,\n",
    "    contents=[\n",
    "        Part.from_bytes(data=image, mime_type=\"image/png\"),\n",
    "        \"Do OCR and Extract Text markdown format\",\n",
    "    ],\n",
    "    config=GenerateContentConfig(\n",
    "        temperature=0.2,\n",
    "        top_p=0.95,\n",
    "    ),\n",
    ")\n",
    "\n",
    "display(Markdown(response.text))"
   ]
  },
  {
   "cell_type": "code",
   "execution_count": 61,
   "id": "0f838ccc",
   "metadata": {},
   "outputs": [
    {
     "name": "stdout",
     "output_type": "stream",
     "text": [
      "```markdown\n",
      "# 1\n",
      "सुनें कहानी\n",
      "\n",
      "मीना का परिवार\n",
      "\n",
      "मीना के परिवार में सात लोग हैं- उसके दादा, दादी, माता, पिता, चाचा,\n",
      "मीना और उसका छोटा भाई दिवाकर। दिवाकर तीन साल का है। वह बहुत\n",
      "नटखट और चुलबुला है।\n",
      "\n",
      "ed\n",
      "\n",
      "मीना को अपने भाई के साथ खेलने में बहुत\n",
      "आनंद आता है। दिवाकर भागकर कमरे के\n",
      "किवाड़ के पीछे छिप जाता है। मीना उसे ढूँढ़\n",
      "लेती है तो वह ज़ोर-ज़ोर से हँसता है।\n",
      "\n",
      "2\n",
      "\n",
      "Reprint 2025-26\n",
      "```\n"
     ]
    }
   ],
   "source": [
    "print(response.text)"
   ]
  },
  {
   "cell_type": "code",
   "execution_count": 53,
   "id": "9e18cfa8",
   "metadata": {},
   "outputs": [
    {
     "data": {
      "text/plain": [
       "47560.0"
      ]
     },
     "execution_count": 53,
     "metadata": {},
     "output_type": "execute_result"
    }
   ],
   "source": [
    "(1800 * 0.1 + .4 * 1000) * 82"
   ]
  },
  {
   "cell_type": "code",
   "execution_count": null,
   "id": "08248b86",
   "metadata": {},
   "outputs": [],
   "source": [
    "आगासी"
   ]
  }
 ],
 "metadata": {
  "kernelspec": {
   "display_name": ".venv",
   "language": "python",
   "name": "python3"
  },
  "language_info": {
   "codemirror_mode": {
    "name": "ipython",
    "version": 3
   },
   "file_extension": ".py",
   "mimetype": "text/x-python",
   "name": "python",
   "nbconvert_exporter": "python",
   "pygments_lexer": "ipython3",
   "version": "3.11.11"
  }
 },
 "nbformat": 4,
 "nbformat_minor": 5
}
