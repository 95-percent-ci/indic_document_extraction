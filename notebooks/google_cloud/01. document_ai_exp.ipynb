{
 "cells": [
  {
   "cell_type": "markdown",
   "id": "93cf3ca0",
   "metadata": {},
   "source": [
    "# 1. Imports"
   ]
  },
  {
   "cell_type": "code",
   "execution_count": null,
   "id": "25d77d49",
   "metadata": {},
   "outputs": [],
   "source": [
    "import os\n",
    "from typing import Iterator, MutableSequence, Optional, Sequence, Tuple\n",
    "import google.cloud.documentai_v1 as docai\n",
    "from tabulate import tabulate"
   ]
  },
  {
   "cell_type": "code",
   "execution_count": 2,
   "id": "49cd5868",
   "metadata": {},
   "outputs": [],
   "source": [
    "from dotenv import load_dotenv"
   ]
  },
  {
   "cell_type": "markdown",
   "id": "e38f9e8b",
   "metadata": {},
   "source": [
    "# 2. Setting Project ID\n",
    "\n",
    "Note You need to authenticate & make sure same PROJECT ID is used.[Google Cloud Docs](https://codelabs.developers.google.com/codelabs/cloud-documentai-manage-processors-python#1)"
   ]
  },
  {
   "cell_type": "code",
   "execution_count": 3,
   "id": "6f92ed5d",
   "metadata": {},
   "outputs": [],
   "source": [
    "PROJECT_ID = os.getenv(\"PROJECT_ID\", \"\")\n",
    "API_LOCATION = os.getenv(\"API_LOCATION\", \"\")"
   ]
  },
  {
   "cell_type": "code",
   "execution_count": 4,
   "id": "e1ff02ac",
   "metadata": {},
   "outputs": [],
   "source": [
    "# Test processors\n",
    "document_ocr_display_name = \"document-ocr\"\n",
    "form_parser_display_name = \"form-parser\"\n",
    "\n",
    "test_processor_display_names_and_types = (\n",
    "    (document_ocr_display_name, \"OCR_PROCESSOR\"),\n",
    "    (form_parser_display_name, \"FORM_PARSER_PROCESSOR\"),\n",
    ")\n"
   ]
  },
  {
   "cell_type": "code",
   "execution_count": 5,
   "id": "b433c505",
   "metadata": {},
   "outputs": [],
   "source": [
    "def get_client() -> docai.DocumentProcessorServiceClient:\n",
    "    client_options = {\"api_endpoint\": f\"{API_LOCATION}-documentai.googleapis.com\"}\n",
    "    return docai.DocumentProcessorServiceClient(client_options=client_options)\n",
    "\n",
    "def get_parent(client: docai.DocumentProcessorServiceClient) -> str:\n",
    "    return client.common_location_path(PROJECT_ID, API_LOCATION)\n",
    "\n",
    "def get_client_and_parent() -> Tuple[docai.DocumentProcessorServiceClient, str]:\n",
    "    client = get_client()\n",
    "    parent = get_parent(client)\n",
    "    return client, parent\n"
   ]
  },
  {
   "cell_type": "code",
   "execution_count": 6,
   "id": "ffbe4e04",
   "metadata": {},
   "outputs": [],
   "source": [
    "def fetch_processor_types() -> MutableSequence[docai.ProcessorType]:\n",
    "    client, parent = get_client_and_parent()\n",
    "    response = client.fetch_processor_types(parent=parent)\n",
    "\n",
    "    return response.processor_types\n"
   ]
  },
  {
   "cell_type": "code",
   "execution_count": 7,
   "id": "8c1fa2ae",
   "metadata": {},
   "outputs": [],
   "source": [
    "def print_processor_types(processor_types: Sequence[docai.ProcessorType]):\n",
    "    def sort_key(pt):\n",
    "        return (not pt.allow_creation, pt.category, pt.type_)\n",
    "\n",
    "    sorted_processor_types = sorted(processor_types, key=sort_key)\n",
    "    data = processor_type_tabular_data(sorted_processor_types)\n",
    "    headers = next(data)\n",
    "    colalign = next(data)\n",
    "\n",
    "    print(tabulate(data, headers, tablefmt=\"pretty\", colalign=colalign))\n",
    "    print(f\"→ Processor types: {len(sorted_processor_types)}\")\n",
    "\n",
    "def processor_type_tabular_data(\n",
    "    processor_types: Sequence[docai.ProcessorType],\n",
    ") -> Iterator[Tuple[str, str, str, str]]:\n",
    "    def locations(pt):\n",
    "        return \", \".join(sorted(loc.location_id for loc in pt.available_locations))\n",
    "\n",
    "    yield (\"type\", \"category\", \"allow_creation\", \"locations\")\n",
    "    yield (\"left\", \"left\", \"left\", \"left\")\n",
    "    if not processor_types:\n",
    "        yield (\"-\", \"-\", \"-\", \"-\")\n",
    "        return\n",
    "    for pt in processor_types:\n",
    "        yield (pt.type_, pt.category, f\"{pt.allow_creation}\", locations(pt))\n"
   ]
  },
  {
   "cell_type": "code",
   "execution_count": 8,
   "id": "511f30e1",
   "metadata": {},
   "outputs": [
    {
     "name": "stdout",
     "output_type": "stream",
     "text": [
      "+--------------------------------------+-------------+----------------+---------------------------------------------------------------------------------------------------------------------------+\n",
      "| type                                 | category    | allow_creation | locations                                                                                                                 |\n",
      "+--------------------------------------+-------------+----------------+---------------------------------------------------------------------------------------------------------------------------+\n",
      "| CUSTOM_CLASSIFICATION_PROCESSOR      | CUSTOM      | True           | asia-south1, asia-southeast1, australia-southeast1, eu, europe-west2, europe-west3, northamerica-northeast1, us           |\n",
      "| CUSTOM_EXTRACTION_PROCESSOR          | CUSTOM      | True           | asia-south1, asia-southeast1, australia-southeast1, eu, europe-west2, europe-west3, northamerica-northeast1, us, us-east7 |\n",
      "| CUSTOM_SPLITTING_PROCESSOR           | CUSTOM      | True           | asia-south1, asia-southeast1, australia-southeast1, eu, europe-west2, europe-west3, northamerica-northeast1, us           |\n",
      "| SUMMARY_PROCESSOR                    | CUSTOM      | True           | us                                                                                                                        |\n",
      "| FORM_PARSER_PROCESSOR                | GENERAL     | True           | asia-south1, asia-southeast1, australia-southeast1, eu, europe-west2, europe-west3, northamerica-northeast1, us           |\n",
      "| LAYOUT_PARSER_PROCESSOR              | GENERAL     | True           | eu, us                                                                                                                    |\n",
      "| OCR_PROCESSOR                        | GENERAL     | True           | asia-south1, asia-southeast1, australia-southeast1, eu, europe-west2, europe-west3, northamerica-northeast1, us           |\n",
      "| BANK_STATEMENT_PROCESSOR             | SPECIALIZED | True           | eu, us                                                                                                                    |\n",
      "| EXPENSE_PROCESSOR                    | SPECIALIZED | True           | asia-southeast1, australia-southeast1, eu, northamerica-northeast1, us                                                    |\n",
      "| FORM_W2_PROCESSOR                    | SPECIALIZED | True           | eu, us                                                                                                                    |\n",
      "| FORM_W9_PROCESSOR                    | SPECIALIZED | True           | eu, us                                                                                                                    |\n",
      "| ID_PROOFING_PROCESSOR                | SPECIALIZED | True           | eu, us                                                                                                                    |\n",
      "| INVOICE_PROCESSOR                    | SPECIALIZED | True           | asia-south1, asia-southeast1, australia-southeast1, eu, northamerica-northeast1, us                                       |\n",
      "| PAYSTUB_PROCESSOR                    | SPECIALIZED | True           | eu, us                                                                                                                    |\n",
      "| US_DRIVER_LICENSE_PROCESSOR          | SPECIALIZED | True           | eu, us                                                                                                                    |\n",
      "| US_PASSPORT_PROCESSOR                | SPECIALIZED | True           | eu, us                                                                                                                    |\n",
      "| UTILITY_PROCESSOR                    | SPECIALIZED | True           | eu, us                                                                                                                    |\n",
      "| LENDING_DOCUMENT_SPLIT_PROCESSOR     | SPECIALIZED | False          | eu, us                                                                                                                    |\n",
      "| PROCUREMENT_DOCUMENT_SPLIT_PROCESSOR | SPECIALIZED | False          | eu, us                                                                                                                    |\n",
      "+--------------------------------------+-------------+----------------+---------------------------------------------------------------------------------------------------------------------------+\n",
      "→ Processor types: 19\n"
     ]
    }
   ],
   "source": [
    "processor_types = fetch_processor_types()\n",
    "print_processor_types(processor_types)\n"
   ]
  },
  {
   "cell_type": "code",
   "execution_count": 16,
   "id": "42562118",
   "metadata": {},
   "outputs": [],
   "source": [
    "def create_processor(display_name: str, type: str) -> docai.Processor:\n",
    "    client, parent = get_client_and_parent()\n",
    "    processor = docai.Processor(display_name=display_name, type_=type)\n",
    "\n",
    "    return client.create_processor(parent=parent, processor=processor)"
   ]
  },
  {
   "cell_type": "code",
   "execution_count": 17,
   "id": "d9261711",
   "metadata": {},
   "outputs": [
    {
     "name": "stdout",
     "output_type": "stream",
     "text": [
      "================================================================================\n",
      "Creating document-ocr (OCR_PROCESSOR)...\n",
      "================================================================================\n",
      "Creating form-parser (FORM_PARSER_PROCESSOR)...\n",
      "================================================================================\n",
      "Done\n"
     ]
    }
   ],
   "source": [
    "separator = \"=\" * 80\n",
    "for display_name, type in test_processor_display_names_and_types:\n",
    "    print(separator)\n",
    "    print(f\"Creating {display_name} ({type})...\")\n",
    "    try:\n",
    "        create_processor(display_name, type)\n",
    "    except Exception as err:\n",
    "        print(err)\n",
    "print(separator)\n",
    "print(\"Done\")\n"
   ]
  },
  {
   "cell_type": "markdown",
   "id": "51fddd3c",
   "metadata": {},
   "source": []
  },
  {
   "cell_type": "code",
   "execution_count": 9,
   "id": "4a49d983",
   "metadata": {},
   "outputs": [],
   "source": [
    "def list_processors() -> MutableSequence[docai.Processor]:\n",
    "    client, parent = get_client_and_parent()\n",
    "    response = client.list_processors(parent=parent)\n",
    "\n",
    "    return list(response.processors)\n",
    "\n",
    "def print_processors(processors: Optional[Sequence[docai.Processor]] = None):\n",
    "    def sort_key(processor):\n",
    "        return processor.display_name\n",
    "\n",
    "    if processors is None:\n",
    "        processors = list_processors()\n",
    "    sorted_processors = sorted(processors, key=sort_key)\n",
    "    data = processor_tabular_data(sorted_processors)\n",
    "    headers = next(data)\n",
    "    colalign = next(data)\n",
    "\n",
    "    print(tabulate(data, headers, tablefmt=\"pretty\", colalign=colalign))\n",
    "    print(f\"→ Processors: {len(sorted_processors)}\")\n",
    "\n",
    "def processor_tabular_data(\n",
    "    processors: Sequence[docai.Processor],\n",
    ") -> Iterator[Tuple[str, str, str]]:\n",
    "    yield (\"display_name\", \"type\", \"state\")\n",
    "    yield (\"left\", \"left\", \"left\")\n",
    "    if not processors:\n",
    "        yield (\"-\", \"-\", \"-\")\n",
    "        return\n",
    "    for processor in processors:\n",
    "        yield (processor.display_name, processor.type_, processor.state.name)\n",
    "        \n"
   ]
  },
  {
   "cell_type": "code",
   "execution_count": 10,
   "id": "f5d2cb35",
   "metadata": {},
   "outputs": [
    {
     "name": "stdout",
     "output_type": "stream",
     "text": [
      "+----------------------+-----------------------+---------+\n",
      "| display_name         | type                  | state   |\n",
      "+----------------------+-----------------------+---------+\n",
      "| document-ocr         | OCR_PROCESSOR         | ENABLED |\n",
      "| form-parser          | FORM_PARSER_PROCESSOR | ENABLED |\n",
      "| indic_test_processor | OCR_PROCESSOR         | ENABLED |\n",
      "+----------------------+-----------------------+---------+\n",
      "→ Processors: 3\n"
     ]
    }
   ],
   "source": [
    "processors = list_processors()\n",
    "print_processors(processors)\n"
   ]
  },
  {
   "cell_type": "code",
   "execution_count": 11,
   "id": "54a32e00",
   "metadata": {},
   "outputs": [],
   "source": [
    "def get_processor(\n",
    "    display_name: str,\n",
    "    processors: Optional[Sequence[docai.Processor]] = None,\n",
    ") -> Optional[docai.Processor]:\n",
    "    if processors is None:\n",
    "        processors = list_processors()\n",
    "    for processor in processors:\n",
    "        if processor.display_name == display_name:\n",
    "            return processor\n",
    "    return None\n",
    "    \n"
   ]
  },
  {
   "cell_type": "code",
   "execution_count": 12,
   "id": "a709e8ad",
   "metadata": {},
   "outputs": [
    {
     "name": "stdout",
     "output_type": "stream",
     "text": [
      "name: \"projects/781576483146/locations/us/processors/5945bfe7932ca5b7\"\n",
      "type_: \"OCR_PROCESSOR\"\n",
      "display_name: \"indic_test_processor\"\n",
      "state: ENABLED\n",
      "process_endpoint: \"https://us-documentai.googleapis.com/v1/projects/781576483146/locations/us/processors/5945bfe7932ca5b7:process\"\n",
      "create_time {\n",
      "  seconds: 1751212231\n",
      "  nanos: 698775000\n",
      "}\n",
      "default_processor_version: \"projects/781576483146/locations/us/processors/5945bfe7932ca5b7/processorVersions/pretrained-ocr-v2.1-2024-08-07\"\n",
      "processor_version_aliases {\n",
      "  alias: \"projects/781576483146/locations/us/processors/5945bfe7932ca5b7/processorVersions/pretrained\"\n",
      "  processor_version: \"projects/781576483146/locations/us/processors/5945bfe7932ca5b7/processorVersions/pretrained-ocr-v1.0-2020-09-23\"\n",
      "}\n",
      "processor_version_aliases {\n",
      "  alias: \"projects/781576483146/locations/us/processors/5945bfe7932ca5b7/processorVersions/pretrained-next\"\n",
      "  processor_version: \"projects/781576483146/locations/us/processors/5945bfe7932ca5b7/processorVersions/pretrained-ocr-v1.1-2022-09-12\"\n",
      "}\n",
      "processor_version_aliases {\n",
      "  alias: \"projects/781576483146/locations/us/processors/5945bfe7932ca5b7/processorVersions/rc\"\n",
      "  processor_version: \"projects/781576483146/locations/us/processors/5945bfe7932ca5b7/processorVersions/pretrained-ocr-v2.1-2024-08-07\"\n",
      "}\n",
      "processor_version_aliases {\n",
      "  alias: \"projects/781576483146/locations/us/processors/5945bfe7932ca5b7/processorVersions/stable\"\n",
      "  processor_version: \"projects/781576483146/locations/us/processors/5945bfe7932ca5b7/processorVersions/pretrained-ocr-v2.0-2023-06-02\"\n",
      "}\n",
      "\n"
     ]
    }
   ],
   "source": [
    "processor = get_processor(\"indic_test_processor\", processors)\n",
    "\n",
    "assert processor is not None\n",
    "print(processor)"
   ]
  },
  {
   "cell_type": "code",
   "execution_count": 13,
   "id": "d064ff75",
   "metadata": {},
   "outputs": [],
   "source": [
    "def process_file(\n",
    "    processor: docai.Processor,\n",
    "    file_path: str,\n",
    "    mime_type: str,\n",
    ") -> docai.Document:\n",
    "    client = get_client()\n",
    "    with open(file_path, \"rb\") as document_file:\n",
    "        document_content = document_file.read()\n",
    "    document = docai.RawDocument(content=document_content, mime_type=mime_type)\n",
    "    request = docai.ProcessRequest(raw_document=document, name=processor.name)\n",
    "\n",
    "    response = client.process_document(request)\n",
    "\n",
    "    return response.document"
   ]
  },
  {
   "cell_type": "code",
   "execution_count": 14,
   "id": "bd73eef2",
   "metadata": {},
   "outputs": [],
   "source": [
    "processor_obj = get_processor(\"indic_test_processor\")\n",
    "fp = \"../../pdf_samples/Winnie_the_Pooh_3_Pages.pdf\"\n",
    "mime_type = \"application/pdf\"\n",
    "parsed_doc = process_file(processor_obj,fp, mime_type)"
   ]
  },
  {
   "cell_type": "code",
   "execution_count": 15,
   "id": "f458da9e",
   "metadata": {},
   "outputs": [
    {
     "name": "stdout",
     "output_type": "stream",
     "text": [
      "CHAPTER I IN WHICH We Are Introduced to Winnie-the-Pooh and Some Bees, and the Stories Begin HERE LERE is Edward Bear, coming downstairs now, bump, bump, bump, on the back of his head, behind Christopher Robin. It is, as far as he knows, the only way of coming downstairs, but sometimes he feels that there really is another way, if only he could stop bumping for a moment and think of it. And then he feels that perhaps there isn't. Anyhow, here he is at the bottom, and ready to be introduced to you. Winnie-the-Pooh. When I first heard his name, I said, just as you are going to say, \"But I thought he was a boy?\" \"So did I,\" said Christopher Robin. \"Then you can't call him Winnie?\" 6. \"I don't.\" \"But you said--\" \"He's Winnje-ther-Pooh. Don't you know what 'ther' means?\" I Digitized by Google 2 WINNIE-THE-POOH \"Ah, yes, now I do,\" I said quickly; and I hope you do too, because it is all the explanation you are going to get. Sometimes Winnie-the-Pooh likes a game of some sort when he comes downstairs, and sometimes he likes to sit quietly in front of the fire and listen to a story. This evening-- \"What about a story?\" said Christopher Robin. \"What about a story?\" I said. \"Could you very sweetly tell Winnie-the-Pooh one?\" \"I suppose I could,\" I said. \"What sort of stories does he like?\" \"About himself. Because he's that sort of Bear.\" \"Oh, I see.\" \"So could you very sweetly?\" \"I'll try,\" I said. So I tried Once upon a time, a very long time ago now, about last Friday, Winnie-the-Pooh lived in a forest all by himself under the name of Sanders. (\"What does 'under the name mean?\" asked Christopher Robin. \"It means he had the name over the door in gold letters, and lived under it.\" Digitized by Google WE ARE INTRODUCED 3 ARNIG ALSO AB SAUDERZ \"Winnie-the-Pooh wasn't quite sure,\" said Chris- topher Robin. “Now I am,” said a growly voice. \"Then I will go on,\" said I.) One day when he was out walking, he came to an open place in the middle of the forest, and in the middle of this place was a large oak-tree, and, from the top of the tree, there came a loud buzzing-noise. Winnie-the-Pooh sat down at the foot of the tree, put his head between his paws and began to think. Digitized by Google \n"
     ]
    }
   ],
   "source": [
    "print(\" \".join(parsed_doc.text.split(\"\\n\")))"
   ]
  },
  {
   "cell_type": "code",
   "execution_count": 16,
   "id": "fcffcb54",
   "metadata": {},
   "outputs": [
    {
     "data": {
      "text/plain": [
       "google.cloud.documentai_v1.types.document.Document.DocumentLayout"
      ]
     },
     "execution_count": 16,
     "metadata": {},
     "output_type": "execute_result"
    }
   ],
   "source": [
    "parsed_doc.DocumentLayout"
   ]
  },
  {
   "cell_type": "code",
   "execution_count": 17,
   "id": "4e5becca",
   "metadata": {},
   "outputs": [],
   "source": [
    "def list_processor_versions(\n",
    "    processor: docai.Processor,\n",
    ") -> MutableSequence[docai.ProcessorVersion]:\n",
    "    client = get_client()\n",
    "    response = client.list_processor_versions(parent=processor.name)\n",
    "\n",
    "    return list(response)\n",
    "\n",
    "\n",
    "def get_sorted_processor_versions(\n",
    "    processor: docai.Processor,\n",
    ") -> MutableSequence[docai.ProcessorVersion]:\n",
    "    def sort_key(processor_version: docai.ProcessorVersion):\n",
    "        return processor_version.name\n",
    "\n",
    "    versions = list_processor_versions(processor)\n",
    "\n",
    "    return sorted(versions, key=sort_key)\n",
    "\n",
    "\n",
    "def print_processor_versions(processor: docai.Processor):\n",
    "    versions = get_sorted_processor_versions(processor)\n",
    "    default_version_name = processor.default_processor_version\n",
    "    data = processor_versions_tabular_data(versions, default_version_name)\n",
    "    headers = next(data)\n",
    "    colalign = next(data)\n",
    "\n",
    "    print(tabulate(data, headers, tablefmt=\"pretty\", colalign=colalign))\n",
    "    print(f\"→ Processor versions: {len(versions)}\")\n",
    "\n",
    "\n",
    "def processor_versions_tabular_data(\n",
    "    versions: Sequence[docai.ProcessorVersion],\n",
    "    default_version_name: str,\n",
    ") -> Iterator[Tuple[str, str, str]]:\n",
    "    yield (\"version\", \"display name\", \"default\")\n",
    "    yield (\"left\", \"left\", \"left\")\n",
    "    if not versions:\n",
    "        yield (\"-\", \"-\", \"-\")\n",
    "        return\n",
    "    for version in versions:\n",
    "        mapping = docai.DocumentProcessorServiceClient.parse_processor_version_path(\n",
    "            version.name\n",
    "        )\n",
    "        processor_version = mapping[\"processor_version\"]\n",
    "        is_default = \"Y\" if version.name == default_version_name else \"\"\n",
    "        yield (processor_version, version.display_name, is_default)\n",
    "        \n"
   ]
  },
  {
   "cell_type": "code",
   "execution_count": 18,
   "id": "c69da085",
   "metadata": {},
   "outputs": [
    {
     "name": "stdout",
     "output_type": "stream",
     "text": [
      "+--------------------------------+--------------------------+---------+\n",
      "| version                        | display name             | default |\n",
      "+--------------------------------+--------------------------+---------+\n",
      "| pretrained-ocr-v1.0-2020-09-23 | Google Stable            |         |\n",
      "| pretrained-ocr-v1.1-2022-09-12 | Google Release Candidate |         |\n",
      "| pretrained-ocr-v1.2-2022-11-10 | Google Release Candidate |         |\n",
      "| pretrained-ocr-v2.0-2023-06-02 | Google Stable            |         |\n",
      "| pretrained-ocr-v2.1-2024-08-07 | Google Release Candidate | Y       |\n",
      "+--------------------------------+--------------------------+---------+\n",
      "→ Processor versions: 5\n"
     ]
    }
   ],
   "source": [
    "processor = get_processor(\"indic_test_processor\")\n",
    "print_processor_versions(processor)\n"
   ]
  },
  {
   "cell_type": "code",
   "execution_count": 19,
   "id": "216f804e",
   "metadata": {},
   "outputs": [],
   "source": [
    "def set_default_processor_version(processor: docai.Processor, version_name: str):\n",
    "    client = get_client()\n",
    "    request = docai.SetDefaultProcessorVersionRequest(\n",
    "        processor=processor.name,\n",
    "        default_processor_version=version_name,\n",
    "    )\n",
    "\n",
    "    operation = client.set_default_processor_version(request)\n",
    "    operation.result()"
   ]
  },
  {
   "cell_type": "code",
   "execution_count": 20,
   "id": "e84b842f",
   "metadata": {},
   "outputs": [],
   "source": [
    "processor = get_processor(\"indic_test_processor\")\n",
    "versions = get_sorted_processor_versions(processor)\n",
    "\n",
    "new_version = versions[-1]  # Latest version\n",
    "set_default_processor_version(processor, new_version.name)\n"
   ]
  },
  {
   "cell_type": "code",
   "execution_count": 21,
   "id": "cac8726a",
   "metadata": {},
   "outputs": [
    {
     "name": "stdout",
     "output_type": "stream",
     "text": [
      "+--------------------------------+--------------------------+---------+\n",
      "| version                        | display name             | default |\n",
      "+--------------------------------+--------------------------+---------+\n",
      "| pretrained-ocr-v1.0-2020-09-23 | Google Stable            |         |\n",
      "| pretrained-ocr-v1.1-2022-09-12 | Google Release Candidate |         |\n",
      "| pretrained-ocr-v1.2-2022-11-10 | Google Release Candidate |         |\n",
      "| pretrained-ocr-v2.0-2023-06-02 | Google Stable            |         |\n",
      "| pretrained-ocr-v2.1-2024-08-07 | Google Release Candidate | Y       |\n",
      "+--------------------------------+--------------------------+---------+\n",
      "→ Processor versions: 5\n"
     ]
    }
   ],
   "source": [
    "processor = get_processor(\"indic_test_processor\")\n",
    "print_processor_versions(processor)"
   ]
  },
  {
   "cell_type": "code",
   "execution_count": 22,
   "id": "531feb36",
   "metadata": {},
   "outputs": [
    {
     "data": {
      "text/plain": [
       "49200"
      ]
     },
     "execution_count": 22,
     "metadata": {},
     "output_type": "execute_result"
    }
   ],
   "source": [
    "600 * 82"
   ]
  },
  {
   "cell_type": "code",
   "execution_count": null,
   "id": "d60d1ab6",
   "metadata": {},
   "outputs": [],
   "source": []
  }
 ],
 "metadata": {
  "kernelspec": {
   "display_name": ".venv",
   "language": "python",
   "name": "python3"
  },
  "language_info": {
   "codemirror_mode": {
    "name": "ipython",
    "version": 3
   },
   "file_extension": ".py",
   "mimetype": "text/x-python",
   "name": "python",
   "nbconvert_exporter": "python",
   "pygments_lexer": "ipython3",
   "version": "3.11.11"
  }
 },
 "nbformat": 4,
 "nbformat_minor": 5
}
