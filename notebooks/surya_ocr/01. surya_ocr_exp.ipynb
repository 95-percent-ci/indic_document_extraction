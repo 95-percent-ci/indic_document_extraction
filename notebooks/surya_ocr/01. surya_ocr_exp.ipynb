{
 "cells": [
  {
   "cell_type": "markdown",
   "id": "53d3e867",
   "metadata": {},
   "source": [
    "# 1. Context \n",
    "\n",
    "Usage With Surya OCR"
   ]
  },
  {
   "cell_type": "code",
   "execution_count": 10,
   "id": "d91fa551",
   "metadata": {},
   "outputs": [],
   "source": [
    "from PIL import Image\n",
    "from surya.recognition import RecognitionPredictor\n",
    "from surya.detection import DetectionPredictor\n",
    "from surya.layout import LayoutPredictor"
   ]
  },
  {
   "cell_type": "code",
   "execution_count": 12,
   "id": "6686947c",
   "metadata": {},
   "outputs": [],
   "source": [
    "file_path = \"/Users/niteshkumarsharma/Desktop/Folder/AI/indic_document_extraction/sample_images/hindi/book_scanned_hindi_12.png\"\n",
    "image = Image.open(file_path)"
   ]
  },
  {
   "cell_type": "markdown",
   "id": "507521ae",
   "metadata": {},
   "source": [
    "## 1. OCR (Text Recognition)"
   ]
  },
  {
   "cell_type": "code",
   "execution_count": 6,
   "id": "b773d12b",
   "metadata": {},
   "outputs": [],
   "source": [
    "recognition_predictor = RecognitionPredictor()\n",
    "detection_predictor = DetectionPredictor()"
   ]
  },
  {
   "cell_type": "code",
   "execution_count": 7,
   "id": "5cb7f5af",
   "metadata": {},
   "outputs": [
    {
     "name": "stderr",
     "output_type": "stream",
     "text": [
      "Detecting bboxes: 100%|██████████| 1/1 [00:00<00:00,  1.79it/s]\n",
      "Recognizing Text: 100%|██████████| 29/29 [00:18<00:00,  1.54it/s]\n"
     ]
    }
   ],
   "source": [
    "predictions = recognition_predictor([image], det_predictor=detection_predictor)"
   ]
  },
  {
   "cell_type": "markdown",
   "id": "4cb5a69d",
   "metadata": {},
   "source": [
    "# 2. Layout and reading order"
   ]
  },
  {
   "cell_type": "code",
   "execution_count": 13,
   "id": "ce8230ab",
   "metadata": {},
   "outputs": [
    {
     "name": "stderr",
     "output_type": "stream",
     "text": [
      "Recognizing layout: 100%|██████████| 1/1 [00:01<00:00,  1.56s/it]\n"
     ]
    }
   ],
   "source": [
    "layout_predictor = LayoutPredictor()\n",
    "\n",
    "# layout_predictions is a list of dicts, one per image\n",
    "layout_predictions = layout_predictor([image])"
   ]
  },
  {
   "cell_type": "code",
   "execution_count": 15,
   "id": "3b1c6ce5",
   "metadata": {},
   "outputs": [
    {
     "data": {
      "text/plain": [
       "[LayoutResult(bboxes=[LayoutBox(polygon=[[276.32373046875, 23.270050048828125], [503.55029296875, 23.270050048828125], [503.55029296875, 54.349639892578125], [276.32373046875, 54.349639892578125]], confidence=0.5986328125, label='PageHeader', position=0, top_k={'PageHeader': 0.5986328125, 'Text': 0.400390625, 'SectionHeader': 0.0005273818969726562, 'TableOfContents': 0.00021851062774658203, 'Footnote': 0.0001348257064819336}, bbox=[276.32373046875, 23.270050048828125, 503.55029296875, 54.349639892578125]), LayoutBox(polygon=[[10.5498046875, 94.6658935546875], [788.39501953125, 94.6658935546875], [788.39501953125, 211.3729248046875], [10.5498046875, 211.3729248046875]], confidence=1.0, label='Text', position=1, top_k={'Text': 1.0, 'PageHeader': 5.751848220825195e-05, 'PageFooter': 1.1205673217773438e-05, 'ListItem': 7.68899917602539e-06, 'TableOfContents': 6.67572021484375e-06}, bbox=[10.5498046875, 94.6658935546875, 788.39501953125, 211.3729248046875]), LayoutBox(polygon=[[14.607421875, 215.02001953125], [794.4814453125, 215.02001953125], [794.4814453125, 407.84033203125], [14.607421875, 407.84033203125]], confidence=1.0, label='Text', position=2, top_k={'Text': 1.0, 'TextInlineMath': 9.894371032714844e-06, 'ListItem': 3.337860107421875e-06, 'PageHeader': 2.9802322387695312e-06, 'Footnote': 8.344650268554688e-07}, bbox=[14.607421875, 215.02001953125, 794.4814453125, 407.84033203125]), LayoutBox(polygon=[[22.114013671875, 411.01171875], [800.9736328125, 411.01171875], [800.9736328125, 647.59716796875], [22.114013671875, 647.59716796875]], confidence=1.0, label='Text', position=3, top_k={'Text': 1.0, 'TextInlineMath': 1.8477439880371094e-06, 'ListItem': 1.3113021850585938e-06, 'PageHeader': 2.980232238769531e-07, 'Footnote': 2.384185791015625e-07}, bbox=[22.114013671875, 411.01171875, 800.9736328125, 647.59716796875]), LayoutBox(polygon=[[30.43212890625, 649.5], [802.19091796875, 649.5], [802.19091796875, 756.05859375], [30.43212890625, 756.05859375]], confidence=1.0, label='Text', position=4, top_k={'Text': 1.0, 'TextInlineMath': 1.043081283569336e-05, 'PageHeader': 2.384185791015625e-06, 'ListItem': 1.5497207641601562e-06, 'SectionHeader': 1.1324882507324219e-06}, bbox=[30.43212890625, 649.5, 802.19091796875, 756.05859375]), LayoutBox(polygon=[[38.1416015625, 757.3271484375], [806.654296875, 757.3271484375], [806.654296875, 943.8046875], [38.1416015625, 943.8046875]], confidence=1.0, label='Text', position=5, top_k={'Text': 1.0, 'TextInlineMath': 4.112720489501953e-06, 'ListItem': 4.76837158203125e-07, 'PageHeader': 1.7881393432617188e-07, 'Footnote': 1.1920928955078125e-07}, bbox=[38.1416015625, 757.3271484375, 806.654296875, 943.8046875]), LayoutBox(polygon=[[51.328857421875, 945.0732421875], [811.5234375, 945.0732421875], [811.5234375, 1210.201171875], [51.328857421875, 1210.201171875]], confidence=1.0, label='Text', position=6, top_k={'Text': 1.0, 'TextInlineMath': 1.1920928955078125e-06, 'ListItem': 6.556510925292969e-07, 'PageHeader': 3.5762786865234375e-07, 'SectionHeader': 1.1920928955078125e-07}, bbox=[51.328857421875, 945.0732421875, 811.5234375, 1210.201171875]), LayoutBox(polygon=[[124.56884765625, 1208.9326171875], [808.68310546875, 1208.9326171875], [808.68310546875, 1248.2578125], [124.56884765625, 1248.2578125]], confidence=1.0, label='Text', position=7, top_k={'Text': 1.0, 'PageHeader': 3.2901763916015625e-05, 'TextInlineMath': 1.519918441772461e-05, 'Footnote': 5.841255187988281e-06, 'ListItem': 3.6954879760742188e-06}, bbox=[124.56884765625, 1208.9326171875, 808.68310546875, 1248.2578125]), LayoutBox(polygon=[[757.962890625, 28.0667724609375], [779.8740234375, 25.5296630859375], [779.8740234375, 51.019683837890625], [757.962890625, 53.556793212890625]], confidence=0.99658203125, label='PageHeader', position=8, top_k={'PageHeader': 0.99658203125, 'TextInlineMath': 0.003002166748046875, 'PageFooter': 0.00013816356658935547, 'Footnote': 0.00010204315185546875, 'Text': 6.0439109802246094e-05}, bbox=[757.962890625, 25.5296630859375, 779.8740234375, 53.556793212890625])], image_bbox=[0.0, 0.0, 831.0, 1299.0], sliced=False)]"
      ]
     },
     "execution_count": 15,
     "metadata": {},
     "output_type": "execute_result"
    }
   ],
   "source": [
    "layout_predictions"
   ]
  },
  {
   "cell_type": "code",
   "execution_count": null,
   "id": "015039da",
   "metadata": {},
   "outputs": [],
   "source": []
  }
 ],
 "metadata": {
  "kernelspec": {
   "display_name": ".venv",
   "language": "python",
   "name": "python3"
  },
  "language_info": {
   "codemirror_mode": {
    "name": "ipython",
    "version": 3
   },
   "file_extension": ".py",
   "mimetype": "text/x-python",
   "name": "python",
   "nbconvert_exporter": "python",
   "pygments_lexer": "ipython3",
   "version": "3.11.11"
  }
 },
 "nbformat": 4,
 "nbformat_minor": 5
}
