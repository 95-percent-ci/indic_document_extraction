{
 "cells": [
  {
   "cell_type": "markdown",
   "id": "50ee271f",
   "metadata": {},
   "source": [
    "# 1. Context\n",
    "\n",
    "This notebook explores basic usage of `docling` package on Ncert Book in Hindi on Stories. Books is around 80 pages long and contains rich images and visualisation"
   ]
  },
  {
   "cell_type": "markdown",
   "id": "31292da0",
   "metadata": {},
   "source": [
    "# 2. Basic Import"
   ]
  },
  {
   "cell_type": "code",
   "execution_count": null,
   "id": "31424de3",
   "metadata": {},
   "outputs": [],
   "source": [
    "from docling.datamodel import vlm_model_specs\n",
    "from docling.datamodel.base_models import InputFormat\n",
    "from docling.datamodel.pipeline_options import (\n",
    "    VlmPipelineOptions,\n",
    ")\n",
    "from docling.document_converter import DocumentConverter, PdfFormatOption\n",
    "from docling.pipeline.vlm_pipeline import VlmPipeline\n",
    "from pathlib import Path\n",
    "\n",
    "# Get the current notebook directory\n",
    "base_dir = Path().resolve().parent"
   ]
  },
  {
   "cell_type": "code",
   "execution_count": null,
   "id": "a9534639",
   "metadata": {},
   "outputs": [],
   "source": [
    "pipeline_options = VlmPipelineOptions(\n",
    "    vlm_options=vlm_model_specs.SMOLDOCLING_MLX,\n",
    ")"
   ]
  },
  {
   "cell_type": "markdown",
   "id": "7083a71f",
   "metadata": {},
   "source": [
    "# 3. Extraction"
   ]
  },
  {
   "cell_type": "markdown",
   "id": "f03b5c69",
   "metadata": {},
   "source": [
    "## 3.1. Setting Book PDF Path"
   ]
  },
  {
   "cell_type": "code",
   "execution_count": null,
   "id": "f4d5cbd8",
   "metadata": {},
   "outputs": [],
   "source": [
    "book_path = base_dir / \"documents\" / \"pdf\" / \"Suno_Khani.pdf\""
   ]
  },
  {
   "cell_type": "markdown",
   "id": "2cd1b8c2",
   "metadata": {},
   "source": [
    "## 3.2. Extracting Contents"
   ]
  },
  {
   "cell_type": "code",
   "execution_count": null,
   "id": "2ffb3611",
   "metadata": {},
   "outputs": [],
   "source": [
    "source = book_path# document per local path or URL\n",
    "converter = DocumentConverter(\n",
    "    format_options={\n",
    "        InputFormat.PDF: PdfFormatOption(\n",
    "            pipeline_cls=VlmPipeline,\n",
    "            pipeline_options=pipeline_options,\n",
    "        ),\n",
    "    }\n",
    ")\n",
    "\n",
    "result = converter.convert(source)"
   ]
  },
  {
   "cell_type": "code",
   "execution_count": null,
   "id": "51fba139",
   "metadata": {},
   "outputs": [],
   "source": [
    "print(result.document.export_to_markdown()) "
   ]
  },
  {
   "cell_type": "markdown",
   "id": "b3baee72",
   "metadata": {},
   "source": [
    "###"
   ]
  }
 ],
 "metadata": {
  "kernelspec": {
   "display_name": ".venv",
   "language": "python",
   "name": "python3"
  },
  "language_info": {
   "codemirror_mode": {
    "name": "ipython",
    "version": 3
   },
   "file_extension": ".py",
   "mimetype": "text/x-python",
   "name": "python",
   "nbconvert_exporter": "python",
   "pygments_lexer": "ipython3",
   "version": "3.11.11"
  }
 },
 "nbformat": 4,
 "nbformat_minor": 5
}
