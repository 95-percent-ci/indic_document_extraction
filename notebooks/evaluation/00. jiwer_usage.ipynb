{
 "cells": [
  {
   "cell_type": "code",
   "execution_count": 1,
   "id": "6e07d3a5",
   "metadata": {},
   "outputs": [],
   "source": [
    "import jiwer\n",
    "from jiwer import wer"
   ]
  },
  {
   "cell_type": "markdown",
   "id": "e1d10b74",
   "metadata": {},
   "source": [
    "# 1. Err Rate usage"
   ]
  },
  {
   "cell_type": "markdown",
   "id": "d50dce1c",
   "metadata": {},
   "source": [
    "## 1.1. WER"
   ]
  },
  {
   "cell_type": "code",
   "execution_count": 2,
   "id": "c8cc0706",
   "metadata": {},
   "outputs": [],
   "source": [
    "reference = \"hello world\"\n",
    "hypothesis = \"hello duck\"\n",
    "\n",
    "word_err_rate = wer(reference, hypothesis)"
   ]
  },
  {
   "cell_type": "markdown",
   "id": "cbd915e3",
   "metadata": {},
   "source": [
    "## 1.2. Faster Way"
   ]
  },
  {
   "cell_type": "code",
   "execution_count": 3,
   "id": "0f75352f",
   "metadata": {},
   "outputs": [],
   "source": [
    "output_words = jiwer.process_words(reference, hypothesis)\n",
    "word_err_rate = output_words.wer"
   ]
  },
  {
   "cell_type": "markdown",
   "id": "7c72eccf",
   "metadata": {},
   "source": [
    "## 1.3. CER"
   ]
  },
  {
   "cell_type": "code",
   "execution_count": 12,
   "id": "072c4502",
   "metadata": {},
   "outputs": [],
   "source": [
    "reference = [\"i can spell\", \"i hope\"]\n",
    "hypothesis = [\"i kan cpell\", \"i hop\"]\n",
    "\n",
    "error = jiwer.cer(reference, hypothesis)\n",
    "\n",
    "# if you also want the alignment\n",
    "output = jiwer.process_characters(reference, hypothesis)\n",
    "error = output.cer"
   ]
  },
  {
   "cell_type": "markdown",
   "id": "4561a8b8",
   "metadata": {},
   "source": [
    "# 2. Alignment\n",
    "\n",
    "`jiwer.process_characters` or `jiwer.process_words` also returns aligment between the ref and hypothesis"
   ]
  },
  {
   "cell_type": "code",
   "execution_count": 9,
   "id": "f5114fbb",
   "metadata": {},
   "outputs": [],
   "source": [
    "out = jiwer.process_words(\"short one here\", \"shoe order one\")"
   ]
  },
  {
   "cell_type": "code",
   "execution_count": 10,
   "id": "757ce816",
   "metadata": {},
   "outputs": [
    {
     "name": "stdout",
     "output_type": "stream",
     "text": [
      "=== SENTENCE 1 ===\n",
      "\n",
      "REF: **** short one here\n",
      "HYP: shoe order one ****\n",
      "        I     S        D\n",
      "\n",
      "=== SUMMARY ===\n",
      "number of sentences: 1\n",
      "substitutions=1 deletions=1 insertions=1 hits=1\n",
      "\n",
      "mer=75.00%\n",
      "wil=88.89%\n",
      "wip=11.11%\n",
      "wer=100.00%\n",
      "\n"
     ]
    }
   ],
   "source": [
    "# We can also visualise the alignments via `jiwer.visualize_alignment(out)`\n",
    "print(jiwer.visualize_alignment(out))"
   ]
  },
  {
   "cell_type": "code",
   "execution_count": null,
   "id": "d37bdb85",
   "metadata": {},
   "outputs": [],
   "source": [
    "## Multiple Samples\n",
    "out = jiwer.process_words(\n",
    "    [\"short one here\", \"quite a bit of longer sentence\"],\n",
    "    [\"shoe order one\", \"quite bit of an even longest sentence here\"],\n",
    ")\n",
    "\n",
    "print(jiwer.visualize_alignment(out))"
   ]
  },
  {
   "cell_type": "code",
   "execution_count": 11,
   "id": "42b9be5c",
   "metadata": {},
   "outputs": [
    {
     "data": {
      "text/plain": [
       "[[AlignmentChunk(type='insert', ref_start_idx=0, ref_end_idx=0, hyp_start_idx=0, hyp_end_idx=1),\n",
       "  AlignmentChunk(type='substitute', ref_start_idx=0, ref_end_idx=1, hyp_start_idx=1, hyp_end_idx=2),\n",
       "  AlignmentChunk(type='equal', ref_start_idx=1, ref_end_idx=2, hyp_start_idx=2, hyp_end_idx=3),\n",
       "  AlignmentChunk(type='delete', ref_start_idx=2, ref_end_idx=3, hyp_start_idx=3, hyp_end_idx=3)]]"
      ]
     },
     "execution_count": 11,
     "metadata": {},
     "output_type": "execute_result"
    }
   ],
   "source": [
    "out.alignments"
   ]
  },
  {
   "cell_type": "code",
   "execution_count": null,
   "id": "3c38a8cf",
   "metadata": {},
   "outputs": [],
   "source": []
  }
 ],
 "metadata": {
  "kernelspec": {
   "display_name": ".venv",
   "language": "python",
   "name": "python3"
  },
  "language_info": {
   "codemirror_mode": {
    "name": "ipython",
    "version": 3
   },
   "file_extension": ".py",
   "mimetype": "text/x-python",
   "name": "python",
   "nbconvert_exporter": "python",
   "pygments_lexer": "ipython3",
   "version": "3.11.11"
  }
 },
 "nbformat": 4,
 "nbformat_minor": 5
}
