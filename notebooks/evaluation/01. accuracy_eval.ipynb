{
 "cells": [
  {
   "cell_type": "markdown",
   "id": "ebf29ea5",
   "metadata": {},
   "source": [
    "# 1. Context\n",
    "\n",
    "This Notebook evaluates Character Error Rate (CER) & Word Error Rate (WER) in OCRed Document at paragraph compared to Ground Truth\n",
    "\n",
    "> Accuracy evaluation will be scoped to document (1 page) and multi column layput in later studies"
   ]
  },
  {
   "cell_type": "code",
   "execution_count": null,
   "id": "16bf6b30",
   "metadata": {
    "vscode": {
     "languageId": "plaintext"
    }
   },
   "outputs": [],
   "source": []
  }
 ],
 "metadata": {
  "language_info": {
   "name": "python"
  }
 },
 "nbformat": 4,
 "nbformat_minor": 5
}
