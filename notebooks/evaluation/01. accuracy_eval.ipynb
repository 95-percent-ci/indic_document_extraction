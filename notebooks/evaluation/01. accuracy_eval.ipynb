{
 "cells": [
  {
   "cell_type": "markdown",
   "id": "ebf29ea5",
   "metadata": {},
   "source": [
    "# 1. Context\n",
    "\n",
    "This Notebook evaluates Character Error Rate (CER) & Word Error Rate (WER) in OCRed Document at paragraph compared to Ground Truth\n",
    "\n",
    "> Accuracy evaluation will be scoped to document (1 page) and multi column layput in later studies"
   ]
  },
  {
   "cell_type": "markdown",
   "id": "13cdcf01",
   "metadata": {},
   "source": [
    "# 2. Imports"
   ]
  },
  {
   "cell_type": "code",
   "execution_count": 1,
   "id": "ec36447a",
   "metadata": {},
   "outputs": [],
   "source": [
    "import jiwer"
   ]
  },
  {
   "cell_type": "code",
   "execution_count": 2,
   "id": "16bf6b30",
   "metadata": {},
   "outputs": [],
   "source": [
    "\n",
    "# The correct, ground truth text\n",
    "reference_text = \"मीना के परिवार में सात लोग हैं - उसके दादा, दादी, माता, पिता, चाचा, मीना और उसका छोटा भाई दिवाकर। दिवाकर तीन साल का है। वह बहुत नटखट और चुलबुला है।\"\n",
    "# The OCR output with errors\n",
    "hypothesis_text = \"मीना के परिवार में सात लाग हैं - उसके दादा, दाडी, माता, पिता, चाच, मीना और उसका छोटा भाई दिवाकर। दिवादर तीन साल का है। वह बहुर नटखट और चुलबुला है।\"\n",
    "\n",
    "output = jiwer.process_characters(reference_text, hypothesis_text)"
   ]
  },
  {
   "cell_type": "code",
   "execution_count": 3,
   "id": "40995aa0",
   "metadata": {},
   "outputs": [
    {
     "name": "stdout",
     "output_type": "stream",
     "text": [
      "=== SENTENCE 1 ===\n",
      "\n",
      "REF: मीना के परिवार में सात लोग हैं - उसके दादा, दादी, माता, पिता, चाचा, मीना और उसका छोटा भाई दिवाकर। दिवाकर तीन साल का है। वह बहुत नटखट और चुलबुला है।\n",
      "HYP: मीना के परिवार में सात लाग हैं - उसके दादा, दाडी, माता, पिता, चाच*, मीना और उसका छोटा भाई दिवाकर। दिवादर तीन साल का है। वह बहुर नटखट और चुलबुला है।\n",
      "                             S                     S                  D                                    S                       S                    \n",
      "\n",
      "=== SUMMARY ===\n",
      "number of sentences: 1\n",
      "substitutions=4 deletions=1 insertions=0 hits=142\n",
      "\n",
      "cer=3.40%\n",
      "\n"
     ]
    }
   ],
   "source": [
    "print(jiwer.visualize_alignment(output))"
   ]
  },
  {
   "cell_type": "code",
   "execution_count": 4,
   "id": "615fbbf6",
   "metadata": {},
   "outputs": [
    {
     "name": "stdout",
     "output_type": "stream",
     "text": [
      "=== SUBSTITUTIONS ===\n",
      "ो --> ा = 1x\n",
      "द --> ड = 1x\n",
      "क --> द = 1x\n",
      "त --> र = 1x\n",
      "\n",
      "=== INSERTIONS ===\n",
      "none\n",
      "=== DELETIONS ===\n",
      "ा = 1x\n"
     ]
    }
   ],
   "source": [
    "print(jiwer.visualize_error_counts(output))"
   ]
  },
  {
   "cell_type": "code",
   "execution_count": 5,
   "id": "45e894bd",
   "metadata": {},
   "outputs": [],
   "source": [
    "def visualize_character_errors(\n",
    "    reference: str,\n",
    "    hypothesis: str,\n",
    "    chunks\n",
    "):\n",
    "    \"\"\"\n",
    "    Draws the reference and hypothesis texts with highlighted errors.\n",
    "\n",
    "    Args:\n",
    "        reference (str): The ground truth text.\n",
    "        hypothesis (str): The transcribed text.\n",
    "        chunks (List[AlignmentChunk]): A list of AlignmentChunk objects from jiwer.\n",
    "    \"\"\"\n",
    "    # ANSI escape codes for colors\n",
    "    GREEN_BG = \"\\033[42m\"\n",
    "    RED_BG = \"\\033[41m\"\n",
    "    RESET = \"\\033[0m\"\n",
    "\n",
    "    ref_viz = \"\"\n",
    "    hyp_viz = \"\"\n",
    "\n",
    "    for chunk in chunks:\n",
    "        ref_substring = reference[chunk.ref_start_idx:chunk.ref_end_idx]\n",
    "        hyp_substring = hypothesis[chunk.hyp_start_idx:chunk.hyp_end_idx]\n",
    "\n",
    "        if chunk.type == 'equal':\n",
    "            ref_viz += ref_substring\n",
    "            hyp_viz += hyp_substring\n",
    "        elif chunk.type == 'substitute':\n",
    "            # Highlight substitutions with different background colors\n",
    "            ref_viz += f\"{RED_BG}{ref_substring}{RESET}\"\n",
    "            hyp_viz += f\"{GREEN_BG}{hyp_substring}{RESET}\"\n",
    "        elif chunk.type == 'delete':\n",
    "            # Highlight deletions in the reference and add placeholders in hypothesis\n",
    "            ref_viz += f\"{RED_BG}{ref_substring}{RESET}\"\n",
    "            hyp_viz += \"*\" * len(ref_substring)\n",
    "        elif chunk.type == 'insert':\n",
    "            # Highlight insertions in the hypothesis and add placeholders in reference\n",
    "            ref_viz += \"*\" * len(hyp_substring)\n",
    "            hyp_viz += f\"{GREEN_BG}{hyp_substring}{RESET}\"\n",
    "\n",
    "    print(f\"Reference:\\n{ref_viz}\\n\")\n",
    "    print(f\"Hypothesis:\\n{hyp_viz}\\n\")\n"
   ]
  },
  {
   "cell_type": "code",
   "execution_count": 6,
   "id": "c1c92f12",
   "metadata": {},
   "outputs": [
    {
     "name": "stdout",
     "output_type": "stream",
     "text": [
      "Reference:\n",
      "मीना के परिवार में सात ल\u001b[41mो\u001b[0mग हैं - उसके दादा, दा\u001b[41mद\u001b[0mी, माता, पिता, चाच\u001b[41mा\u001b[0m, मीना और उसका छोटा भाई दिवाकर। दिवा\u001b[41mक\u001b[0mर तीन साल का है। वह बहु\u001b[41mत\u001b[0m नटखट और चुलबुला है।\n",
      "\n",
      "Hypothesis:\n",
      "मीना के परिवार में सात ल\u001b[42mा\u001b[0mग हैं - उसके दादा, दा\u001b[42mड\u001b[0mी, माता, पिता, चाच*, मीना और उसका छोटा भाई दिवाकर। दिवा\u001b[42mद\u001b[0mर तीन साल का है। वह बहु\u001b[42mर\u001b[0m नटखट और चुलबुला है।\n",
      "\n"
     ]
    }
   ],
   "source": [
    "visualize_character_errors(reference_text, hypothesis_text, output.alignments[0])"
   ]
  },
  {
   "cell_type": "code",
   "execution_count": null,
   "id": "07d0a776",
   "metadata": {},
   "outputs": [],
   "source": []
  }
 ],
 "metadata": {
  "kernelspec": {
   "display_name": ".venv",
   "language": "python",
   "name": "python3"
  },
  "language_info": {
   "codemirror_mode": {
    "name": "ipython",
    "version": 3
   },
   "file_extension": ".py",
   "mimetype": "text/x-python",
   "name": "python",
   "nbconvert_exporter": "python",
   "pygments_lexer": "ipython3",
   "version": "3.11.11"
  }
 },
 "nbformat": 4,
 "nbformat_minor": 5
}
